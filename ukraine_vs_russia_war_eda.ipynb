{
  "metadata": {
    "kernelspec": {
      "language": "python",
      "display_name": "Python 3",
      "name": "python3"
    },
    "language_info": {
      "pygments_lexer": "ipython3",
      "nbconvert_exporter": "python",
      "version": "3.6.4",
      "file_extension": ".py",
      "codemirror_mode": {
        "name": "ipython",
        "version": 3
      },
      "name": "python",
      "mimetype": "text/x-python"
    },
    "colab": {
      "provenance": [],
      "include_colab_link": true
    }
  },
  "nbformat_minor": 0,
  "nbformat": 4,
  "cells": [
    {
      "cell_type": "markdown",
      "metadata": {
        "id": "view-in-github",
        "colab_type": "text"
      },
      "source": [
        "<a href=\"https://colab.research.google.com/github/dscoool/dataincontext/blob/main/ukraine_vs_russia_war_eda.ipynb\" target=\"_parent\"><img src=\"https://colab.research.google.com/assets/colab-badge.svg\" alt=\"Open In Colab\"/></a>"
      ]
    },
    {
      "cell_type": "markdown",
      "source": [
        "<div style=\"color:white;\n",
        "            display:fill;\n",
        "            border-radius:15px;\n",
        "            background-color:crimson;\n",
        "            font-size:100%;\n",
        "            font-family:Verdana;\n",
        "            letter-spacing:1px\">\n",
        "    <h3 style='padding: 20px;\n",
        "              color:white;\n",
        "              text-align:center;'>\n",
        "        UKRAINE Vs RUSSIA WAR EDA\n",
        "    </h3>\n",
        "    </div>"
      ],
      "metadata": {
        "id": "sgTzf13tAFbW"
      }
    },
    {
      "cell_type": "markdown",
      "source": [
        "![](https://otb.cachefly.net/wp-content/uploads/2022/02/russia-troops-ukraine-map.jpg)"
      ],
      "metadata": {
        "id": "BgO1-hLlAFba"
      }
    },
    {
      "cell_type": "markdown",
      "source": [
        "<p>\n",
        "    The Russo-Ukrainian War has been ongoing between Russia (alongside Russian separatists in Ukraine) and Ukraine since February 2014. Hostilities were initiated by Russia shortly after Ukraine's Revolution of Dignity and were focused on the political status of Crimea and the Donbas, which remain internationally recognized as part of Ukraine. Incursions into Ukrainian territory culminated in Russia's annexation of Crimea, followed shortly afterwards by the beginning of the war in Donbas between Russia-backed separatists and Ukrainian state forces; fighting for the first eight years of the conflict also included naval incidents, cyberwarfare, and heightened political tensions. Throughout 2021, bilateral tensions rose due to a Russian military buildup surrounding Ukrainian territory, and on 24 February 2022, the conflict saw a major escalation as Russia invaded mainland Ukraine.\n",
        "    </p>"
      ],
      "metadata": {
        "id": "wkCXtRzMAFbb"
      }
    },
    {
      "cell_type": "markdown",
      "source": [
        "<div style=\"color:white;\n",
        "            display:fill;\n",
        "            border-radius:15px;\n",
        "            background-color:crimson;\n",
        "            font-size:100%;\n",
        "            font-family:Verdana;\n",
        "            letter-spacing:1px\">\n",
        "    <h3 style='padding: 20px;\n",
        "              color:white;\n",
        "              text-align:center;'>\n",
        "        IMPORTING LIBRARIES\n",
        "    </h3>\n",
        "    </div>"
      ],
      "metadata": {
        "id": "-LpZiukMAFbb"
      }
    },
    {
      "cell_type": "code",
      "source": [
        "# Importing all the Required Libraries\n",
        "\n",
        "import pandas as pd\n",
        "import numpy as np\n",
        "import matplotlib.pyplot as plt\n",
        "import plotly.express as px\n",
        "from plotly.offline import init_notebook_mode\n",
        "import seaborn as sns\n",
        "import datetime as dt\n",
        "import warnings\n",
        "import plotly.graph_objects as go\n",
        "warnings.filterwarnings('ignore')\n",
        "pd.set_option('display.max_columns',None)\n",
        "init_notebook_mode(connected=True)"
      ],
      "metadata": {
        "execution": {
          "iopub.status.busy": "2022-10-16T16:49:01.224573Z",
          "iopub.execute_input": "2022-10-16T16:49:01.225028Z",
          "iopub.status.idle": "2022-10-16T16:49:01.236127Z",
          "shell.execute_reply.started": "2022-10-16T16:49:01.224994Z",
          "shell.execute_reply": "2022-10-16T16:49:01.234339Z"
        },
        "trusted": true,
        "colab": {
          "base_uri": "https://localhost:8080/",
          "height": 17
        },
        "id": "B-MrLznDAFbc",
        "outputId": "ee68379a-b1f5-42f5-eb1a-dce38fe36eca"
      },
      "execution_count": 1,
      "outputs": [
        {
          "output_type": "display_data",
          "data": {
            "text/html": [
              "        <script type=\"text/javascript\">\n",
              "        window.PlotlyConfig = {MathJaxConfig: 'local'};\n",
              "        if (window.MathJax && window.MathJax.Hub && window.MathJax.Hub.Config) {window.MathJax.Hub.Config({SVG: {font: \"STIX-Web\"}});}\n",
              "        if (typeof require !== 'undefined') {\n",
              "        require.undef(\"plotly\");\n",
              "        requirejs.config({\n",
              "            paths: {\n",
              "                'plotly': ['https://cdn.plot.ly/plotly-2.24.1.min']\n",
              "            }\n",
              "        });\n",
              "        require(['plotly'], function(Plotly) {\n",
              "            window._Plotly = Plotly;\n",
              "        });\n",
              "        }\n",
              "        </script>\n",
              "        "
            ]
          },
          "metadata": {}
        }
      ]
    },
    {
      "cell_type": "code",
      "source": [
        "df1=pd.read_csv(r\"russia_losses_personnel.csv\")\n",
        "df2=pd.read_csv(r\"russia_losses_equipment.csv\")"
      ],
      "metadata": {
        "execution": {
          "iopub.status.busy": "2022-10-16T16:49:01.238741Z",
          "iopub.execute_input": "2022-10-16T16:49:01.240208Z",
          "iopub.status.idle": "2022-10-16T16:49:01.268044Z",
          "shell.execute_reply.started": "2022-10-16T16:49:01.240145Z",
          "shell.execute_reply": "2022-10-16T16:49:01.266709Z"
        },
        "trusted": true,
        "colab": {
          "base_uri": "https://localhost:8080/",
          "height": 400
        },
        "id": "l9yCgyQaAFbe",
        "outputId": "2bc665f2-623d-47a1-e087-12a738cafc17"
      },
      "execution_count": 2,
      "outputs": [
        {
          "output_type": "error",
          "ename": "FileNotFoundError",
          "evalue": "ignored",
          "traceback": [
            "\u001b[0;31m---------------------------------------------------------------------------\u001b[0m",
            "\u001b[0;31mFileNotFoundError\u001b[0m                         Traceback (most recent call last)",
            "\u001b[0;32m<ipython-input-2-3729a7d52398>\u001b[0m in \u001b[0;36m<cell line: 1>\u001b[0;34m()\u001b[0m\n\u001b[0;32m----> 1\u001b[0;31m \u001b[0mdf1\u001b[0m\u001b[0;34m=\u001b[0m\u001b[0mpd\u001b[0m\u001b[0;34m.\u001b[0m\u001b[0mread_csv\u001b[0m\u001b[0;34m(\u001b[0m\u001b[0;34mr\"russia_losses_personnel.csv\"\u001b[0m\u001b[0;34m)\u001b[0m\u001b[0;34m\u001b[0m\u001b[0;34m\u001b[0m\u001b[0m\n\u001b[0m\u001b[1;32m      2\u001b[0m \u001b[0mdf2\u001b[0m\u001b[0;34m=\u001b[0m\u001b[0mpd\u001b[0m\u001b[0;34m.\u001b[0m\u001b[0mread_csv\u001b[0m\u001b[0;34m(\u001b[0m\u001b[0;34mr\"russia_losses_equipment.csv\"\u001b[0m\u001b[0;34m)\u001b[0m\u001b[0;34m\u001b[0m\u001b[0;34m\u001b[0m\u001b[0m\n",
            "\u001b[0;32m/usr/local/lib/python3.10/dist-packages/pandas/util/_decorators.py\u001b[0m in \u001b[0;36mwrapper\u001b[0;34m(*args, **kwargs)\u001b[0m\n\u001b[1;32m    209\u001b[0m                 \u001b[0;32melse\u001b[0m\u001b[0;34m:\u001b[0m\u001b[0;34m\u001b[0m\u001b[0;34m\u001b[0m\u001b[0m\n\u001b[1;32m    210\u001b[0m                     \u001b[0mkwargs\u001b[0m\u001b[0;34m[\u001b[0m\u001b[0mnew_arg_name\u001b[0m\u001b[0;34m]\u001b[0m \u001b[0;34m=\u001b[0m \u001b[0mnew_arg_value\u001b[0m\u001b[0;34m\u001b[0m\u001b[0;34m\u001b[0m\u001b[0m\n\u001b[0;32m--> 211\u001b[0;31m             \u001b[0;32mreturn\u001b[0m \u001b[0mfunc\u001b[0m\u001b[0;34m(\u001b[0m\u001b[0;34m*\u001b[0m\u001b[0margs\u001b[0m\u001b[0;34m,\u001b[0m \u001b[0;34m**\u001b[0m\u001b[0mkwargs\u001b[0m\u001b[0;34m)\u001b[0m\u001b[0;34m\u001b[0m\u001b[0;34m\u001b[0m\u001b[0m\n\u001b[0m\u001b[1;32m    212\u001b[0m \u001b[0;34m\u001b[0m\u001b[0m\n\u001b[1;32m    213\u001b[0m         \u001b[0;32mreturn\u001b[0m \u001b[0mcast\u001b[0m\u001b[0;34m(\u001b[0m\u001b[0mF\u001b[0m\u001b[0;34m,\u001b[0m \u001b[0mwrapper\u001b[0m\u001b[0;34m)\u001b[0m\u001b[0;34m\u001b[0m\u001b[0;34m\u001b[0m\u001b[0m\n",
            "\u001b[0;32m/usr/local/lib/python3.10/dist-packages/pandas/util/_decorators.py\u001b[0m in \u001b[0;36mwrapper\u001b[0;34m(*args, **kwargs)\u001b[0m\n\u001b[1;32m    329\u001b[0m                     \u001b[0mstacklevel\u001b[0m\u001b[0;34m=\u001b[0m\u001b[0mfind_stack_level\u001b[0m\u001b[0;34m(\u001b[0m\u001b[0;34m)\u001b[0m\u001b[0;34m,\u001b[0m\u001b[0;34m\u001b[0m\u001b[0;34m\u001b[0m\u001b[0m\n\u001b[1;32m    330\u001b[0m                 )\n\u001b[0;32m--> 331\u001b[0;31m             \u001b[0;32mreturn\u001b[0m \u001b[0mfunc\u001b[0m\u001b[0;34m(\u001b[0m\u001b[0;34m*\u001b[0m\u001b[0margs\u001b[0m\u001b[0;34m,\u001b[0m \u001b[0;34m**\u001b[0m\u001b[0mkwargs\u001b[0m\u001b[0;34m)\u001b[0m\u001b[0;34m\u001b[0m\u001b[0;34m\u001b[0m\u001b[0m\n\u001b[0m\u001b[1;32m    332\u001b[0m \u001b[0;34m\u001b[0m\u001b[0m\n\u001b[1;32m    333\u001b[0m         \u001b[0;31m# error: \"Callable[[VarArg(Any), KwArg(Any)], Any]\" has no\u001b[0m\u001b[0;34m\u001b[0m\u001b[0;34m\u001b[0m\u001b[0m\n",
            "\u001b[0;32m/usr/local/lib/python3.10/dist-packages/pandas/io/parsers/readers.py\u001b[0m in \u001b[0;36mread_csv\u001b[0;34m(filepath_or_buffer, sep, delimiter, header, names, index_col, usecols, squeeze, prefix, mangle_dupe_cols, dtype, engine, converters, true_values, false_values, skipinitialspace, skiprows, skipfooter, nrows, na_values, keep_default_na, na_filter, verbose, skip_blank_lines, parse_dates, infer_datetime_format, keep_date_col, date_parser, dayfirst, cache_dates, iterator, chunksize, compression, thousands, decimal, lineterminator, quotechar, quoting, doublequote, escapechar, comment, encoding, encoding_errors, dialect, error_bad_lines, warn_bad_lines, on_bad_lines, delim_whitespace, low_memory, memory_map, float_precision, storage_options)\u001b[0m\n\u001b[1;32m    948\u001b[0m     \u001b[0mkwds\u001b[0m\u001b[0;34m.\u001b[0m\u001b[0mupdate\u001b[0m\u001b[0;34m(\u001b[0m\u001b[0mkwds_defaults\u001b[0m\u001b[0;34m)\u001b[0m\u001b[0;34m\u001b[0m\u001b[0;34m\u001b[0m\u001b[0m\n\u001b[1;32m    949\u001b[0m \u001b[0;34m\u001b[0m\u001b[0m\n\u001b[0;32m--> 950\u001b[0;31m     \u001b[0;32mreturn\u001b[0m \u001b[0m_read\u001b[0m\u001b[0;34m(\u001b[0m\u001b[0mfilepath_or_buffer\u001b[0m\u001b[0;34m,\u001b[0m \u001b[0mkwds\u001b[0m\u001b[0;34m)\u001b[0m\u001b[0;34m\u001b[0m\u001b[0;34m\u001b[0m\u001b[0m\n\u001b[0m\u001b[1;32m    951\u001b[0m \u001b[0;34m\u001b[0m\u001b[0m\n\u001b[1;32m    952\u001b[0m \u001b[0;34m\u001b[0m\u001b[0m\n",
            "\u001b[0;32m/usr/local/lib/python3.10/dist-packages/pandas/io/parsers/readers.py\u001b[0m in \u001b[0;36m_read\u001b[0;34m(filepath_or_buffer, kwds)\u001b[0m\n\u001b[1;32m    603\u001b[0m \u001b[0;34m\u001b[0m\u001b[0m\n\u001b[1;32m    604\u001b[0m     \u001b[0;31m# Create the parser.\u001b[0m\u001b[0;34m\u001b[0m\u001b[0;34m\u001b[0m\u001b[0m\n\u001b[0;32m--> 605\u001b[0;31m     \u001b[0mparser\u001b[0m \u001b[0;34m=\u001b[0m \u001b[0mTextFileReader\u001b[0m\u001b[0;34m(\u001b[0m\u001b[0mfilepath_or_buffer\u001b[0m\u001b[0;34m,\u001b[0m \u001b[0;34m**\u001b[0m\u001b[0mkwds\u001b[0m\u001b[0;34m)\u001b[0m\u001b[0;34m\u001b[0m\u001b[0;34m\u001b[0m\u001b[0m\n\u001b[0m\u001b[1;32m    606\u001b[0m \u001b[0;34m\u001b[0m\u001b[0m\n\u001b[1;32m    607\u001b[0m     \u001b[0;32mif\u001b[0m \u001b[0mchunksize\u001b[0m \u001b[0;32mor\u001b[0m \u001b[0miterator\u001b[0m\u001b[0;34m:\u001b[0m\u001b[0;34m\u001b[0m\u001b[0;34m\u001b[0m\u001b[0m\n",
            "\u001b[0;32m/usr/local/lib/python3.10/dist-packages/pandas/io/parsers/readers.py\u001b[0m in \u001b[0;36m__init__\u001b[0;34m(self, f, engine, **kwds)\u001b[0m\n\u001b[1;32m   1440\u001b[0m \u001b[0;34m\u001b[0m\u001b[0m\n\u001b[1;32m   1441\u001b[0m         \u001b[0mself\u001b[0m\u001b[0;34m.\u001b[0m\u001b[0mhandles\u001b[0m\u001b[0;34m:\u001b[0m \u001b[0mIOHandles\u001b[0m \u001b[0;34m|\u001b[0m \u001b[0;32mNone\u001b[0m \u001b[0;34m=\u001b[0m \u001b[0;32mNone\u001b[0m\u001b[0;34m\u001b[0m\u001b[0;34m\u001b[0m\u001b[0m\n\u001b[0;32m-> 1442\u001b[0;31m         \u001b[0mself\u001b[0m\u001b[0;34m.\u001b[0m\u001b[0m_engine\u001b[0m \u001b[0;34m=\u001b[0m \u001b[0mself\u001b[0m\u001b[0;34m.\u001b[0m\u001b[0m_make_engine\u001b[0m\u001b[0;34m(\u001b[0m\u001b[0mf\u001b[0m\u001b[0;34m,\u001b[0m \u001b[0mself\u001b[0m\u001b[0;34m.\u001b[0m\u001b[0mengine\u001b[0m\u001b[0;34m)\u001b[0m\u001b[0;34m\u001b[0m\u001b[0;34m\u001b[0m\u001b[0m\n\u001b[0m\u001b[1;32m   1443\u001b[0m \u001b[0;34m\u001b[0m\u001b[0m\n\u001b[1;32m   1444\u001b[0m     \u001b[0;32mdef\u001b[0m \u001b[0mclose\u001b[0m\u001b[0;34m(\u001b[0m\u001b[0mself\u001b[0m\u001b[0;34m)\u001b[0m \u001b[0;34m->\u001b[0m \u001b[0;32mNone\u001b[0m\u001b[0;34m:\u001b[0m\u001b[0;34m\u001b[0m\u001b[0;34m\u001b[0m\u001b[0m\n",
            "\u001b[0;32m/usr/local/lib/python3.10/dist-packages/pandas/io/parsers/readers.py\u001b[0m in \u001b[0;36m_make_engine\u001b[0;34m(self, f, engine)\u001b[0m\n\u001b[1;32m   1733\u001b[0m                 \u001b[0;32mif\u001b[0m \u001b[0;34m\"b\"\u001b[0m \u001b[0;32mnot\u001b[0m \u001b[0;32min\u001b[0m \u001b[0mmode\u001b[0m\u001b[0;34m:\u001b[0m\u001b[0;34m\u001b[0m\u001b[0;34m\u001b[0m\u001b[0m\n\u001b[1;32m   1734\u001b[0m                     \u001b[0mmode\u001b[0m \u001b[0;34m+=\u001b[0m \u001b[0;34m\"b\"\u001b[0m\u001b[0;34m\u001b[0m\u001b[0;34m\u001b[0m\u001b[0m\n\u001b[0;32m-> 1735\u001b[0;31m             self.handles = get_handle(\n\u001b[0m\u001b[1;32m   1736\u001b[0m                 \u001b[0mf\u001b[0m\u001b[0;34m,\u001b[0m\u001b[0;34m\u001b[0m\u001b[0;34m\u001b[0m\u001b[0m\n\u001b[1;32m   1737\u001b[0m                 \u001b[0mmode\u001b[0m\u001b[0;34m,\u001b[0m\u001b[0;34m\u001b[0m\u001b[0;34m\u001b[0m\u001b[0m\n",
            "\u001b[0;32m/usr/local/lib/python3.10/dist-packages/pandas/io/common.py\u001b[0m in \u001b[0;36mget_handle\u001b[0;34m(path_or_buf, mode, encoding, compression, memory_map, is_text, errors, storage_options)\u001b[0m\n\u001b[1;32m    854\u001b[0m         \u001b[0;32mif\u001b[0m \u001b[0mioargs\u001b[0m\u001b[0;34m.\u001b[0m\u001b[0mencoding\u001b[0m \u001b[0;32mand\u001b[0m \u001b[0;34m\"b\"\u001b[0m \u001b[0;32mnot\u001b[0m \u001b[0;32min\u001b[0m \u001b[0mioargs\u001b[0m\u001b[0;34m.\u001b[0m\u001b[0mmode\u001b[0m\u001b[0;34m:\u001b[0m\u001b[0;34m\u001b[0m\u001b[0;34m\u001b[0m\u001b[0m\n\u001b[1;32m    855\u001b[0m             \u001b[0;31m# Encoding\u001b[0m\u001b[0;34m\u001b[0m\u001b[0;34m\u001b[0m\u001b[0m\n\u001b[0;32m--> 856\u001b[0;31m             handle = open(\n\u001b[0m\u001b[1;32m    857\u001b[0m                 \u001b[0mhandle\u001b[0m\u001b[0;34m,\u001b[0m\u001b[0;34m\u001b[0m\u001b[0;34m\u001b[0m\u001b[0m\n\u001b[1;32m    858\u001b[0m                 \u001b[0mioargs\u001b[0m\u001b[0;34m.\u001b[0m\u001b[0mmode\u001b[0m\u001b[0;34m,\u001b[0m\u001b[0;34m\u001b[0m\u001b[0;34m\u001b[0m\u001b[0m\n",
            "\u001b[0;31mFileNotFoundError\u001b[0m: [Errno 2] No such file or directory: 'russia_losses_personnel.csv'"
          ]
        }
      ]
    },
    {
      "cell_type": "code",
      "source": [
        "df1.head()"
      ],
      "metadata": {
        "execution": {
          "iopub.status.busy": "2022-10-16T16:49:01.270557Z",
          "iopub.execute_input": "2022-10-16T16:49:01.271295Z",
          "iopub.status.idle": "2022-10-16T16:49:01.288564Z",
          "shell.execute_reply.started": "2022-10-16T16:49:01.271243Z",
          "shell.execute_reply": "2022-10-16T16:49:01.287359Z"
        },
        "trusted": true,
        "id": "PATRHg6LAFbf"
      },
      "execution_count": null,
      "outputs": []
    },
    {
      "cell_type": "code",
      "source": [
        "df2.head()"
      ],
      "metadata": {
        "execution": {
          "iopub.status.busy": "2022-10-16T16:49:01.290204Z",
          "iopub.execute_input": "2022-10-16T16:49:01.291503Z",
          "iopub.status.idle": "2022-10-16T16:49:01.314277Z",
          "shell.execute_reply.started": "2022-10-16T16:49:01.291445Z",
          "shell.execute_reply": "2022-10-16T16:49:01.313013Z"
        },
        "trusted": true,
        "id": "28UUWuYtAFbf"
      },
      "execution_count": null,
      "outputs": []
    },
    {
      "cell_type": "markdown",
      "source": [
        "<div style=\"color:white;\n",
        "            display:fill;\n",
        "            border-radius:15px;\n",
        "            background-color:crimson;\n",
        "            font-size:100%;\n",
        "            font-family:Verdana;\n",
        "            letter-spacing:1px\">\n",
        "    <h3 style='padding: 20px;\n",
        "              color:white;\n",
        "              text-align:center;'>\n",
        "        DATA INFORMATION\n",
        "    </h3>\n",
        "    </div>"
      ],
      "metadata": {
        "id": "vwn-j7xkAFbg"
      }
    },
    {
      "cell_type": "code",
      "source": [
        "df1.info()"
      ],
      "metadata": {
        "execution": {
          "iopub.status.busy": "2022-10-16T16:49:01.318630Z",
          "iopub.execute_input": "2022-10-16T16:49:01.319161Z",
          "iopub.status.idle": "2022-10-16T16:49:01.338358Z",
          "shell.execute_reply.started": "2022-10-16T16:49:01.319100Z",
          "shell.execute_reply": "2022-10-16T16:49:01.337045Z"
        },
        "trusted": true,
        "id": "NYm74GfiAFbg"
      },
      "execution_count": null,
      "outputs": []
    },
    {
      "cell_type": "code",
      "source": [
        "df2.info()"
      ],
      "metadata": {
        "execution": {
          "iopub.status.busy": "2022-10-16T16:49:01.340180Z",
          "iopub.execute_input": "2022-10-16T16:49:01.340782Z",
          "iopub.status.idle": "2022-10-16T16:49:01.361090Z",
          "shell.execute_reply.started": "2022-10-16T16:49:01.340748Z",
          "shell.execute_reply": "2022-10-16T16:49:01.359740Z"
        },
        "trusted": true,
        "id": "HZOE_m52AFbg"
      },
      "execution_count": null,
      "outputs": []
    },
    {
      "cell_type": "markdown",
      "source": [
        "<div style=\"color:white;\n",
        "            display:fill;\n",
        "            border-radius:15px;\n",
        "            background-color:crimson;\n",
        "            font-size:100%;\n",
        "            font-family:Verdana;\n",
        "            letter-spacing:1px\">\n",
        "    <h3 style='padding: 20px;\n",
        "              color:white;\n",
        "              text-align:center;'>\n",
        "        EXPLORATORY DATA ANALYSIS\n",
        "    </h3>\n",
        "    </div>"
      ],
      "metadata": {
        "id": "KNtsmNFfAFbg"
      }
    },
    {
      "cell_type": "code",
      "source": [
        "df1.isnull().sum()"
      ],
      "metadata": {
        "execution": {
          "iopub.status.busy": "2022-10-16T16:49:01.362763Z",
          "iopub.execute_input": "2022-10-16T16:49:01.363207Z",
          "iopub.status.idle": "2022-10-16T16:49:01.373993Z",
          "shell.execute_reply.started": "2022-10-16T16:49:01.363164Z",
          "shell.execute_reply": "2022-10-16T16:49:01.372923Z"
        },
        "trusted": true,
        "id": "XWuJ4gtBAFbh"
      },
      "execution_count": null,
      "outputs": []
    },
    {
      "cell_type": "code",
      "source": [
        "df1.drop('POW',axis=1,inplace=True)"
      ],
      "metadata": {
        "execution": {
          "iopub.status.busy": "2022-10-16T16:49:01.375382Z",
          "iopub.execute_input": "2022-10-16T16:49:01.375871Z",
          "iopub.status.idle": "2022-10-16T16:49:01.385261Z",
          "shell.execute_reply.started": "2022-10-16T16:49:01.375727Z",
          "shell.execute_reply": "2022-10-16T16:49:01.384226Z"
        },
        "trusted": true,
        "id": "kDPqvCgHAFbh"
      },
      "execution_count": null,
      "outputs": []
    },
    {
      "cell_type": "code",
      "source": [
        "df1.describe()"
      ],
      "metadata": {
        "execution": {
          "iopub.status.busy": "2022-10-16T16:49:01.386574Z",
          "iopub.execute_input": "2022-10-16T16:49:01.386921Z",
          "iopub.status.idle": "2022-10-16T16:49:01.411077Z",
          "shell.execute_reply.started": "2022-10-16T16:49:01.386890Z",
          "shell.execute_reply": "2022-10-16T16:49:01.410242Z"
        },
        "trusted": true,
        "id": "mGl8WYV6AFbh"
      },
      "execution_count": null,
      "outputs": []
    },
    {
      "cell_type": "code",
      "source": [
        "df2.describe()"
      ],
      "metadata": {
        "execution": {
          "iopub.status.busy": "2022-10-16T16:49:01.412381Z",
          "iopub.execute_input": "2022-10-16T16:49:01.412884Z",
          "iopub.status.idle": "2022-10-16T16:49:01.467909Z",
          "shell.execute_reply.started": "2022-10-16T16:49:01.412853Z",
          "shell.execute_reply": "2022-10-16T16:49:01.467052Z"
        },
        "trusted": true,
        "id": "1W_8eoB0AFbh"
      },
      "execution_count": null,
      "outputs": []
    },
    {
      "cell_type": "code",
      "source": [
        "fig=px.line(df2,x='date',y=['drone','aircraft','helicopter'],template='ggplot2',title='<b>Russia Air Equipment losses')\n",
        "fig.show()\n",
        "names=['aircraft','helicopter','drone']\n",
        "values=[df2['aircraft'].max(),df2['helicopter'].max(),df2['drone'].max()]\n",
        "fig=px.pie(names=names,values=values,hole=.7,template='ggplot2')\n",
        "fig.update_layout(title_x=0.5,legend=dict(orientation='h',yanchor='bottom',y=1.02,xanchor='right',x=1))"
      ],
      "metadata": {
        "execution": {
          "iopub.status.busy": "2022-10-16T16:49:01.470770Z",
          "iopub.execute_input": "2022-10-16T16:49:01.471308Z",
          "iopub.status.idle": "2022-10-16T16:49:01.594934Z",
          "shell.execute_reply.started": "2022-10-16T16:49:01.471275Z",
          "shell.execute_reply": "2022-10-16T16:49:01.593436Z"
        },
        "trusted": true,
        "id": "YOkUB5WNAFbh"
      },
      "execution_count": null,
      "outputs": []
    },
    {
      "cell_type": "code",
      "source": [
        "fig=px.line(df2,x='date',y=['vehicles and fuel tanks','tank','fuel tank'],template='seaborn',title='<b>Russia Fuel Equipment losses')\n",
        "fig.show()\n",
        "names=['tank','fuel tank','vehicles and fuel tanks']\n",
        "values=[df2['tank'].max(),df2['fuel tank'].max(),df2['vehicles and fuel tanks'].max()]\n",
        "fig=px.pie(names=names,values=values,hole=.7,template='seaborn')\n",
        "fig.update_layout(title_x=0.5,legend=dict(orientation='h',yanchor='bottom',y=1.02,xanchor='right',x=1))"
      ],
      "metadata": {
        "execution": {
          "iopub.status.busy": "2022-10-16T16:49:01.596652Z",
          "iopub.execute_input": "2022-10-16T16:49:01.597026Z",
          "iopub.status.idle": "2022-10-16T16:49:01.768698Z",
          "shell.execute_reply.started": "2022-10-16T16:49:01.596995Z",
          "shell.execute_reply": "2022-10-16T16:49:01.767328Z"
        },
        "trusted": true,
        "id": "nl0bhlWKAFbi"
      },
      "execution_count": null,
      "outputs": []
    },
    {
      "cell_type": "code",
      "source": [
        "fig=px.line(df2,x='date',y=['APC','military auto','field artillery','MRL','cruise missiles'],template='ggplot2',title='<b>Russia Military Equipment losses')\n",
        "fig.show()\n",
        "names=['APC','MRL','military auto','cruise missiles','field artillery']\n",
        "values=[df2['APC'].max(),df2['MRL'].max(),df2['military auto'].max(),df2['cruise missiles'].max(),df2['field artillery'].max()]\n",
        "fig=px.pie(names=names,values=values,hole=.7,template='ggplot2')\n",
        "fig.update_layout(title_x=0.5,legend=dict(orientation='h',yanchor='bottom',y=1.02,xanchor='right',x=1))"
      ],
      "metadata": {
        "execution": {
          "iopub.status.busy": "2022-10-16T16:49:01.770930Z",
          "iopub.execute_input": "2022-10-16T16:49:01.771518Z",
          "iopub.status.idle": "2022-10-16T16:49:01.915411Z",
          "shell.execute_reply.started": "2022-10-16T16:49:01.771456Z",
          "shell.execute_reply": "2022-10-16T16:49:01.914086Z"
        },
        "trusted": true,
        "id": "ovriZFh4AFbi"
      },
      "execution_count": null,
      "outputs": []
    },
    {
      "cell_type": "code",
      "source": [
        "fig=px.line(df2,x='date',y=['special equipment'],template='seaborn',title='<b>Special Equipment losses in Russia')\n",
        "fig.update_traces(showlegend=False)\n",
        "fig.show()"
      ],
      "metadata": {
        "execution": {
          "iopub.status.busy": "2022-10-16T16:49:01.916895Z",
          "iopub.execute_input": "2022-10-16T16:49:01.917211Z",
          "iopub.status.idle": "2022-10-16T16:49:01.991572Z",
          "shell.execute_reply.started": "2022-10-16T16:49:01.917182Z",
          "shell.execute_reply": "2022-10-16T16:49:01.990050Z"
        },
        "trusted": true,
        "id": "qk16jFxWAFbi"
      },
      "execution_count": null,
      "outputs": []
    },
    {
      "cell_type": "code",
      "source": [
        "fig=px.line(df2,x='date',y=['naval ship'],template='seaborn',color_discrete_sequence=['olive'],title='<b>Naval Ship Equipment losses in Russia')\n",
        "fig.update_traces(showlegend=False)\n",
        "fig.show()"
      ],
      "metadata": {
        "execution": {
          "iopub.status.busy": "2022-10-16T16:49:01.993509Z",
          "iopub.execute_input": "2022-10-16T16:49:01.994758Z",
          "iopub.status.idle": "2022-10-16T16:49:02.079620Z",
          "shell.execute_reply.started": "2022-10-16T16:49:01.994708Z",
          "shell.execute_reply": "2022-10-16T16:49:02.078405Z"
        },
        "trusted": true,
        "id": "KEg4Ymy5AFbj"
      },
      "execution_count": null,
      "outputs": []
    },
    {
      "cell_type": "code",
      "source": [
        "fig=go.Figure()\n",
        "from plotly.subplots import make_subplots\n",
        "fig=make_subplots(rows=3,cols=5,subplot_titles=('<i>aircraft', '<i>helicopter', '<i>tank', '<i>APC', '<i>field artillery', '<i>MRL', '<i>military auto', '<i>fuel tank', '<i>drone', '<i>naval ship', '<i>aircraft warfare', '<i>special equipment', '<i> vehicles&fuel tanks', '<i>cruise missiles', '<i>mobile SRBM system'))\n",
        "fig.add_trace(go.Scatter(x=df2['date'],y=df2['aircraft'],name='aircraft'),row=1,col=1)\n",
        "fig.add_trace(go.Scatter(x=df2['date'],y=df2['helicopter'],name='helicopter'),row=1,col=2)\n",
        "fig.add_trace(go.Scatter(x=df2['date'],y=df2['tank'],name='tank'),row=1,col=3)\n",
        "fig.add_trace(go.Scatter(x=df2['date'],y=df2['APC'],name='APC'),row=1,col=4)\n",
        "fig.add_trace(go.Scatter(x=df2['date'],y=df2['field artillery'],name='field artillery'),row=1,col=5)\n",
        "fig.add_trace(go.Scatter(x=df2['date'],y=df2['MRL'],name='MRL'),row=2,col=1)\n",
        "fig.add_trace(go.Scatter(x=df2['date'],y=df2['military auto'],name='military auto'),row=2,col=2)\n",
        "fig.add_trace(go.Scatter(x=df2['date'],y=df2['fuel tank'],name='fuel tank'),row=2,col=3)\n",
        "fig.add_trace(go.Scatter(x=df2['date'],y=df2['drone'],name='drone'),row=2,col=4)\n",
        "fig.add_trace(go.Scatter(x=df2['date'],y=df2['naval ship'],name='naval ship'),row=2,col=5)\n",
        "fig.add_trace(go.Scatter(x=df2['date'],y=df2['anti-aircraft warfare'],name='anti-aircraft warfare'),row=3,col=1)\n",
        "fig.add_trace(go.Scatter(x=df2['date'],y=df2['special equipment'],name='special equipment'),row=3,col=2)\n",
        "fig.add_trace(go.Scatter(x=df2['date'],y=df2['vehicles and fuel tanks'],name='vehicles and fuel tanks'),row=3,col=3)\n",
        "fig.add_trace(go.Scatter(x=df2['date'],y=df2['cruise missiles'],name='cruise missiles'),row=3,col=4)\n",
        "fig.add_trace(go.Scatter(x=df2['date'],y=df2['mobile SRBM system'],name='mobile SRBM system'),row=3,col=5)\n",
        "fig.update_layout(showlegend=False)\n",
        "fig.update_layout(height=1000,width=1200,title_text='<b>Total Equipment Losses in Russia')\n",
        "fig.update_layout(template='plotly_dark',title_x=0.5)"
      ],
      "metadata": {
        "execution": {
          "iopub.status.busy": "2022-10-16T16:49:02.081039Z",
          "iopub.execute_input": "2022-10-16T16:49:02.081570Z",
          "iopub.status.idle": "2022-10-16T16:49:02.350779Z",
          "shell.execute_reply.started": "2022-10-16T16:49:02.081536Z",
          "shell.execute_reply": "2022-10-16T16:49:02.349676Z"
        },
        "trusted": true,
        "id": "8vtbeYDUAFbj"
      },
      "execution_count": null,
      "outputs": []
    },
    {
      "cell_type": "code",
      "source": [
        "px.bar(df2.groupby(['greatest losses direction'],as_index=False)[['tank']].count().sort_values(by='tank',ascending=False).reset_index(drop=True).head(15),x='greatest losses direction',y='tank',color='greatest losses direction',text='tank',template='seaborn',labels={'tank':'count'},title='<b>Cities which Reported More Losses ')"
      ],
      "metadata": {
        "execution": {
          "iopub.status.busy": "2022-10-16T16:49:02.352266Z",
          "iopub.execute_input": "2022-10-16T16:49:02.352621Z",
          "iopub.status.idle": "2022-10-16T16:49:02.490706Z",
          "shell.execute_reply.started": "2022-10-16T16:49:02.352589Z",
          "shell.execute_reply": "2022-10-16T16:49:02.489311Z"
        },
        "trusted": true,
        "id": "Ty6vOUZQAFbj"
      },
      "execution_count": null,
      "outputs": []
    },
    {
      "cell_type": "code",
      "source": [
        "fig=px.line(df1,x='date',y='personnel',markers=True,template='plotly_dark',color_discrete_sequence=['crimson'],title='<b>Russian military personnel losses')\n",
        "fig.update_traces(marker=dict(size=4))\n",
        "fig.update_layout(font_color='crimson',title_x=0.5)"
      ],
      "metadata": {
        "execution": {
          "iopub.status.busy": "2022-10-16T16:49:02.492372Z",
          "iopub.execute_input": "2022-10-16T16:49:02.493141Z",
          "iopub.status.idle": "2022-10-16T16:49:02.560096Z",
          "shell.execute_reply.started": "2022-10-16T16:49:02.493087Z",
          "shell.execute_reply": "2022-10-16T16:49:02.558927Z"
        },
        "trusted": true,
        "id": "CwfQ4lxzAFbk"
      },
      "execution_count": null,
      "outputs": []
    },
    {
      "cell_type": "markdown",
      "source": [
        "<div style=\"color:white;\n",
        "            display:fill;\n",
        "            border-radius:15px;\n",
        "            background-color:crimson;\n",
        "            font-size:100%;\n",
        "            font-family:Verdana;\n",
        "            letter-spacing:1px\">\n",
        "    <h3 style='padding: 20px;\n",
        "              color:white;\n",
        "              text-align:center;'>\n",
        "        CONCLUSION\n",
        "    </h3>\n",
        "    </div>"
      ],
      "metadata": {
        "id": "I5rKwZW0AFbk"
      }
    },
    {
      "cell_type": "markdown",
      "source": [
        "<p> From the Analysis, The Most Equipment Losses take place in Donetsk city of Ukraine. Ukraine has lost control of 20 percent of its territory to Russian forces and their proxies in recent years. The destruction has already cost Ukraine at least 113.5 billion, and it may need more than 200 billion to rebuild. Donor nations have pledged to give Ukraine more than 83 billion in total.</p>"
      ],
      "metadata": {
        "id": "GlFULW-VAFbl"
      }
    },
    {
      "cell_type": "markdown",
      "source": [
        "![](https://www.wilsoncenter.org/sites/default/files/styles/embed_text_block/public/media/uploads/images/war%20pic.jpg)"
      ],
      "metadata": {
        "id": "usSmKD6vAFbl"
      }
    },
    {
      "cell_type": "markdown",
      "source": [
        "<div style=\"color:black;\n",
        "            display:fill;\n",
        "            border-radius:15px;\n",
        "            background-color:white;\n",
        "            font-size:100%;\n",
        "            font-family:Verdana;\n",
        "            letter-spacing:1px\">\n",
        "    <h3 style='padding: 20px;\n",
        "              color:black;\n",
        "              text-align:center;'>\n",
        "        IF LIKED THE NOTEBOOK, PLEASE DO UPVOTE.\n",
        "    </h3>\n",
        "\n",
        "</div>"
      ],
      "metadata": {
        "id": "uk_QsO6TAFbl"
      }
    },
    {
      "cell_type": "markdown",
      "source": [
        "![](https://64.media.tumblr.com/ba6a7adbe88bcc9e44c156d7f4454a60/625cc7c5b5ded7ec-ac/s1280x1920/e8a08664e1a1971d33485eda9c062de05a324a67.gifv)"
      ],
      "metadata": {
        "id": "AHVXpWY0AFbl"
      }
    },
    {
      "cell_type": "markdown",
      "source": [
        "<div style=\"color:white;\n",
        "            display:fill;\n",
        "            border-radius:15px;\n",
        "            background-color:crimson;\n",
        "            font-size:100%;\n",
        "            font-family:Verdana;\n",
        "            letter-spacing:1px\">\n",
        "    <h3 style='padding: 20px;\n",
        "              color:white;\n",
        "              text-align:center;'>\n",
        "        END\n",
        "    </h3>\n",
        "    </div>"
      ],
      "metadata": {
        "id": "qAmwkMdwAFbl"
      }
    }
  ]
}